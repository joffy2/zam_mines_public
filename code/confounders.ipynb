{
 "cells": [
  {
   "cell_type": "markdown",
   "metadata": {
    "tags": []
   },
   "source": [
    "# Calculate confounders and combine with those from GEE"
   ]
  },
  {
   "cell_type": "code",
   "execution_count": null,
   "metadata": {},
   "outputs": [],
   "source": [
    "#load libraries\n",
    "library(tidyverse)\n",
    "library(sf)\n",
    "library(raster)"
   ]
  },
  {
   "cell_type": "code",
   "execution_count": null,
   "metadata": {},
   "outputs": [],
   "source": [
    "##set path to datasets\n",
    "data_path = \"PATH\"\n",
    "##set the temp directory for raster processing \n",
    "rasterOptions(tmpdir=\"~/scratch/\")"
   ]
  },
  {
   "cell_type": "code",
   "execution_count": null,
   "metadata": {},
   "outputs": [],
   "source": [
    "#load in the reference raster (all zeros) \n",
    "ref <- raster(paste(data_path,'zam_ref_0.tif', sep = \"/\"))\n",
    "\n",
    "##convert to meter based coordinate system\n",
    "ref_rp <- projectRaster(ref, crs='+proj=merc +lon_0=0 +k=1 +x_0=0 +y_0=0 +datum=WGS84 +units=m +no_defs')\n",
    "\n",
    "##set up reference with cell ID values\n",
    "ref_m <- setValues(raster(ref_rp),seq(1:length(ref_rp))) + ref_rp\n",
    "names(ref_m) <- 'ID'"
   ]
  },
  {
   "cell_type": "code",
   "execution_count": null,
   "metadata": {},
   "outputs": [],
   "source": [
    "##save the refrence raster\n",
    "#writeRaster(ref_m, paste(data_path, \"zam_ref_m.tif\",  sep = \"/\"), overwrite=TRUE)"
   ]
  },
  {
   "cell_type": "code",
   "execution_count": null,
   "metadata": {},
   "outputs": [],
   "source": [
    "#read in vector zam outline (taken form GEE to match those confounders)\n",
    "zam <- st_read(dsn = paste(data_path,'zam_outline', sep = \"/\")  , layer=\"zam_outline\") %>%\n",
    "            st_transform(st_crs(ref_m))"
   ]
  },
  {
   "cell_type": "code",
   "execution_count": null,
   "metadata": {},
   "outputs": [],
   "source": [
    "## set number of years\n",
    "years <- seq(2000,2019)"
   ]
  },
  {
   "cell_type": "code",
   "execution_count": null,
   "metadata": {},
   "outputs": [],
   "source": [
    "##read in the population density datasets\n",
    "pop <- list.files(path = paste0(data_path,'R_conf/pop_density/'),pattern = \"*.tif\")\n",
    "\n",
    "##loop through files read in and add to a raster stack\n",
    "p_stack <- stack(ref_m)\n",
    "\n",
    "for (i in 1:length(pop)) {\n",
    "    p  <- raster(paste0(data_path,'R_conf/pop_density/',pop[i]))\n",
    "    p_m <- projectRaster(p, ref_m)\n",
    "    p_stack <- stack(p_stack,p_m)\n",
    "                               }"
   ]
  },
  {
   "cell_type": "code",
   "execution_count": null,
   "metadata": {
    "tags": []
   },
   "outputs": [],
   "source": [
    "##set names to years and ID\n",
    "names(p_stack) <- c('ID',years)"
   ]
  },
  {
   "cell_type": "code",
   "execution_count": null,
   "metadata": {},
   "outputs": [],
   "source": [
    "##convert to a dataframe and pivot to long format\n",
    "pop_df <- as.data.frame(p_stack) %>%\n",
    "            pivot_longer(cols = starts_with('X'), names_to = 'year', values_to = 'pop_den') %>%\n",
    "            filter(ID >0) %>% \n",
    "            mutate(pop_den = replace_na(pop_den,0), year = parse_number(year))"
   ]
  },
  {
   "cell_type": "code",
   "execution_count": null,
   "metadata": {},
   "outputs": [],
   "source": [
    "##read in vmap0 dataset of roads reproject to meters system\n",
    "roads_97 <- st_read(dsn = paste(data_path,'R_conf/soa_vmap0', sep = \"/\")  , layer=\"trans-road-l\")  %>%\n",
    "            st_transform(st_crs(ref_m))"
   ]
  },
  {
   "cell_type": "code",
   "execution_count": null,
   "metadata": {},
   "outputs": [],
   "source": [
    "##clip roads to zam outline\n",
    "zam_r_97 <- roads_97[zam, ]\n",
    "length(zam_r_97)"
   ]
  },
  {
   "cell_type": "code",
   "execution_count": null,
   "metadata": {},
   "outputs": [],
   "source": [
    "##rasterize the roads to reference\n",
    "roads.97.r <- rasterize(zam_r_97, ref_m, field=1)"
   ]
  },
  {
   "cell_type": "code",
   "execution_count": null,
   "metadata": {},
   "outputs": [],
   "source": [
    "##calculate distance to a road cell - this is in meters\n",
    "road_dist_97 <- gridDistance(roads.97.r, origin = 1)"
   ]
  },
  {
   "cell_type": "code",
   "execution_count": null,
   "metadata": {},
   "outputs": [],
   "source": [
    "##read in gRoads dataset and reproject to meters system\n",
    "roads_10 <- st_read(dsn = paste(data_path,'R_conf/groads-v1-africa-shp', sep = \"/\"), layer=\"gROADS-v1-africa\")  %>%\n",
    "            st_transform(st_crs(ref_m))"
   ]
  },
  {
   "cell_type": "code",
   "execution_count": null,
   "metadata": {},
   "outputs": [],
   "source": [
    "##clip roads to zam outline\n",
    "zam_r_10 <- roads_10[zam, ]\n",
    "length(zam_r_10)"
   ]
  },
  {
   "cell_type": "code",
   "execution_count": null,
   "metadata": {},
   "outputs": [],
   "source": [
    "##rasterize the roads to the reference\n",
    "roads.10.r <- rasterize(zam_r_10, ref_m, field=1)"
   ]
  },
  {
   "cell_type": "code",
   "execution_count": null,
   "metadata": {},
   "outputs": [],
   "source": [
    "##calcaute distance on the road raster - in meters\n",
    "road_dist_10 <- gridDistance(roads.10.r, origin = 1)"
   ]
  },
  {
   "cell_type": "code",
   "execution_count": null,
   "metadata": {},
   "outputs": [],
   "source": [
    "##create a stack with layer per year (values are the same 2000-2009 and 2010-2019) \n",
    "road_stack <- stack(ref_m)\n",
    "\n",
    "for (i in 1:length(years)) {\n",
    "    if (1 +1999 < 2010){\n",
    "        road_stack <- stack(road_stack,road_dist_97)\n",
    "    }else{\n",
    "        road_stack <- stack(urb_stack,road_dist_10)\n",
    "}}"
   ]
  },
  {
   "cell_type": "code",
   "execution_count": null,
   "metadata": {},
   "outputs": [],
   "source": [
    "#set names as years and cell ID\n",
    "names(road_stack) <- c('ID',years)"
   ]
  },
  {
   "cell_type": "code",
   "execution_count": null,
   "metadata": {},
   "outputs": [],
   "source": [
    "##convert to a dataframe and pivot to long format\n",
    "road_df <- as.data.frame(road_stack) %>%\n",
    "            pivot_longer(cols = starts_with('X'), names_to = 'year', values_to = 'road_dist') %>%\n",
    "            filter(ID >0) %>% \n",
    "            mutate(year = parse_number(year))"
   ]
  },
  {
   "cell_type": "code",
   "execution_count": null,
   "metadata": {},
   "outputs": [],
   "source": [
    "##read in Zambian provinces\n",
    "adm_1 <- st_read(dsn = paste(data_path,'zam_outline', sep = \"/\"), layer = 'gadm36_ZMB_1') %>%\n",
    "            st_transform(st_crs(ref_m))"
   ]
  },
  {
   "cell_type": "code",
   "execution_count": null,
   "metadata": {},
   "outputs": [],
   "source": [
    "##merge central and luska provience (some mines cross the coundry and luska is very small)\n",
    "adm_1_m <-  adm_1 %>% \n",
    "            filter(NAME_1 %in% c('Lusaka', 'Central')) %>% \n",
    "            st_union() %>% \n",
    "            st_sf() %>% # make the geometry a data frame object\n",
    "            mutate(NAME_1 = 'Lusaka_Central') %>% \n",
    "            rbind(filter(adm_1, NAME_1 %in% c('Copperbelt','Eastern','Luapula','Muchinga',\n",
    "                                              'North-Western', 'Northern','Southern','Western'))[,c('geometry', 'NAME_1')]) %>%\n",
    "            st_buffer(dist = 10000)"
   ]
  },
  {
   "cell_type": "code",
   "execution_count": null,
   "metadata": {},
   "outputs": [],
   "source": [
    "##convert to a raster\n",
    "adm_1_r <- rasterize(adm_1_m, ref_m, field = as.factor(adm_1_m$NAME_1))\n",
    "names(adm_1_r) <- 'province'"
   ]
  },
  {
   "cell_type": "code",
   "execution_count": null,
   "metadata": {},
   "outputs": [],
   "source": [
    "##read in Agroecological zone dataset \n",
    "agri_zone_in <- raster(paste(data_path,\"R_conf/cell5m_Agroecology_Agro_EcologicalZone_AEZ5_CLAS.tif\",sep=\"/\"))"
   ]
  },
  {
   "cell_type": "code",
   "execution_count": null,
   "metadata": {},
   "outputs": [],
   "source": [
    "##resample to referenece - with nearest value taken\n",
    "agri_zone <- projectRaster(agri_zone_in, ref_m, method=\"ngb\")\n",
    "names(agri_zone) <- 'agri_zone'"
   ]
  },
  {
   "cell_type": "code",
   "execution_count": null,
   "metadata": {},
   "outputs": [],
   "source": [
    "## read in the counfoudners from Google Earth Engine\n",
    "gee_conf <- brick(paste0(data_path,'GEE_conf.tif'))"
   ]
  },
  {
   "cell_type": "code",
   "execution_count": null,
   "metadata": {},
   "outputs": [],
   "source": [
    "## project to the meters based system and stack with the referenece raster \n",
    "gee_conf <- projectRaster(gee_conf, ref_m)\n",
    "gee_stack <- stack(ref_m, gee_conf)"
   ]
  },
  {
   "cell_type": "code",
   "execution_count": null,
   "metadata": {},
   "outputs": [],
   "source": [
    "#convert to dataframe and pivot to long form\n",
    "gee_df <- as.data.frame(gee_stack) %>%\n",
    "            pivot_longer(cols = starts_with('X'), names_to = 'year', values_to = 'burned') %>%\n",
    "            mutate(burned = replace_na(burned,0), year = parse_number(year)) %>%\n",
    "            filter(ID > 0)"
   ]
  },
  {
   "cell_type": "code",
   "execution_count": null,
   "metadata": {},
   "outputs": [],
   "source": [
    "## calculate burning in the previous two years\n",
    "gee_df <- gee_df %>%\n",
    "            group_by(ID) %>%\n",
    "            arrange(year, .by_group = TRUE) %>%\n",
    "            mutate(burn_pre_yr = lag(burned, default = first(burned)),\n",
    "                   burn_pre_2yr = burn_pre_yr + lag(burn_pre_yr, defualt = first(burn_pre_yr))) %>%\n",
    "            ungroup()"
   ]
  },
  {
   "cell_type": "code",
   "execution_count": null,
   "metadata": {},
   "outputs": [],
   "source": [
    "##load in the Hansen forest loss datasets created in GEE\n",
    "tc = brick(paste0(data_path,'hansen/tc_1km.tif')) # pertage tree cover masked to only 0.5 ha forest pixels\n",
    "loss = brick(paste0(data_path,'hansen/la_fmasked_1km.tif')) ##area lost (sum of 30m pixels unweighted be tree cover) masked to remove non-forest in 2000 \n",
    "loss_tcw = brick(paste0(data_path,'hansen/la_fm_w_1km.tif')) ## area lost masked with forest at 0.5 ha and weighted by tree cover\n",
    "tc_sd = brick(paste0(data_path,'hansen/tc_1km_sd.tif')) ## standard devation of tc at 1km "
   ]
  },
  {
   "cell_type": "code",
   "execution_count": null,
   "metadata": {},
   "outputs": [],
   "source": [
    "##set names as years\n",
    "names(tc) = years\n",
    "names(loss) = years \n",
    "names(loss_tcw) = years\n",
    "names(tc_sd) = years"
   ]
  },
  {
   "cell_type": "code",
   "execution_count": null,
   "metadata": {},
   "outputs": [],
   "source": [
    "##reproject to the meters based system\n",
    "tc = projectRaster(tc, crs=crs(ref_m))\n",
    "loss = projectRaster(loss, crs=crs(ref_m))\n",
    "loss_tcw = projectRaster(loss_tcw, crs=crs(ref_m))\n",
    "tc_sd = projectRaster(tc_sd, crs=crs(ref_m))"
   ]
  },
  {
   "cell_type": "code",
   "execution_count": null,
   "metadata": {},
   "outputs": [],
   "source": [
    "##convert to dataframes with the ID value and pivot to long form \n",
    "tc_long =   as.data.frame(stack(ref_m,tc)) %>% \n",
    "            pivot_longer(cols = starts_with('X'), names_to = 'year', values_to = 'tc', names_prefix= 'X') %>% \n",
    "            drop_na()\n",
    "\n",
    "loss_long = as.data.frame(stack(ref_m,loss)) %>% \n",
    "            pivot_longer(cols = starts_with('X'), names_to = 'year', values_to = 'loss', names_prefix= 'X') %>% \n",
    "            drop_na()\n",
    "\n",
    "loss_tcw_long = as.data.frame(stack(ref_m,loss_tcw)) %>% \n",
    "                pivot_longer(cols = starts_with('X'), names_to = 'year', values_to = 'loss_tcw', names_prefix= 'X') %>% \n",
    "                drop_na()\n",
    "\n",
    "tc_sd_long =   as.data.frame(stack(ref_m,tc_sd)) %>% \n",
    "                pivot_longer(cols = starts_with('X'), names_to = 'year', values_to = 'tc_sd', names_prefix= 'X') %>% \n",
    "                drop_na()"
   ]
  },
  {
   "cell_type": "code",
   "execution_count": null,
   "metadata": {},
   "outputs": [],
   "source": [
    "##create a single forest cover and loss dataframe\n",
    "trees <- left_join(tc_long, loss_long, by =c('ID','year')) %>% \n",
    "                    left_join(loss_tcw_long, by =c('ID','year')) %>% \n",
    "                        left_join(tc_sd_long, by = c('ID', 'year'))"
   ]
  },
  {
   "cell_type": "code",
   "execution_count": null,
   "metadata": {},
   "outputs": [],
   "source": [
    "##create tc in the previous year and loss in the previous two years - values needed for matching\n",
    "trees <- trees %>%\n",
    "            group_by(ID) %>%\n",
    "            arrange(year, .by_group = TRUE) %>%\n",
    "            mutate(year = as.numeric(year),\n",
    "                   tc_pre_yr = lag(tc, default = first(tc)), \n",
    "                   loss_pre_yr = lag(loss, default = first(loss)),\n",
    "                   loss_pre_2yr = loss_pre_yr + lag(loss_pre_yr, default = first(loss_pre_yr)),\n",
    "                   loss_2yr_bin = ifelse(loss_pre_2yr >0,1,0)) %>%\n",
    "            ungroup()"
   ]
  },
  {
   "cell_type": "code",
   "execution_count": null,
   "metadata": {},
   "outputs": [],
   "source": [
    "##combine the confounders that don't vary in time\n",
    "fixed <- stack(ref_m, adm_1_r, agri_zone)"
   ]
  },
  {
   "cell_type": "code",
   "execution_count": null,
   "metadata": {},
   "outputs": [],
   "source": [
    "##convert to a dataframe\n",
    "fixed_df <- as.data.frame(fixed, xy = TRUE) %>%\n",
    "            filter(ID >0)"
   ]
  },
  {
   "cell_type": "code",
   "execution_count": null,
   "metadata": {},
   "outputs": [],
   "source": [
    "##combie all confounders into one dataset\n",
    "conf <- pop_df %>%\n",
    "        left_join(road_df, by = c('ID', 'year')) %>%\n",
    "        left_join(fixed_df, by = 'ID') %>%\n",
    "        left_join(gee_df, by = c('ID', 'year')) %>%\n",
    "        left_join(trees, by = c('ID', 'year'))"
   ]
  },
  {
   "cell_type": "code",
   "execution_count": null,
   "metadata": {},
   "outputs": [],
   "source": [
    "length(unique(conf$ID))\n",
    "length((conf$ID))"
   ]
  },
  {
   "cell_type": "code",
   "execution_count": null,
   "metadata": {},
   "outputs": [],
   "source": [
    "##save as a csv\n",
    "#write.csv(conf,paste0(data_path,'dfs/confounders.csv'), row.names = FALSE)"
   ]
  },
  {
   "cell_type": "code",
   "execution_count": null,
   "metadata": {},
   "outputs": [],
   "source": []
  },
  {
   "cell_type": "code",
   "execution_count": null,
   "metadata": {},
   "outputs": [],
   "source": []
  }
 ],
 "metadata": {
  "kernelspec": {
   "display_name": "R",
   "language": "R",
   "name": "ir"
  },
  "language_info": {
   "codemirror_mode": "r",
   "file_extension": ".r",
   "mimetype": "text/x-r-source",
   "name": "R",
   "pygments_lexer": "r",
   "version": "4.0.5"
  }
 },
 "nbformat": 4,
 "nbformat_minor": 4
}
