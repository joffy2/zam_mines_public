{
 "cells": [
  {
   "cell_type": "markdown",
   "id": "proud-israeli",
   "metadata": {},
   "source": [
    "# Create data frames for each mine for matching"
   ]
  },
  {
   "cell_type": "code",
   "execution_count": 3,
   "id": "atlantic-control",
   "metadata": {},
   "outputs": [],
   "source": [
    "##load packages\n",
    "library(tidyverse)\n",
    "library(sf)\n",
    "library(raster)"
   ]
  },
  {
   "cell_type": "code",
   "execution_count": 4,
   "id": "expected-europe",
   "metadata": {},
   "outputs": [],
   "source": [
    "##set path to datasets\n",
    "data_path = \"/exports/csce/datastore/geos/users/s0834538/zam_match_data_final/\"\n",
    "##set the temp directory for raster processing \n",
    "rasterOptions(tmpdir=\"~/scratch/\")"
   ]
  },
  {
   "cell_type": "code",
   "execution_count": 5,
   "id": "banner-nursery",
   "metadata": {},
   "outputs": [
    {
     "name": "stderr",
     "output_type": "stream",
     "text": [
      "\u001b[1mRows: \u001b[22m\u001b[34m15695380\u001b[39m \u001b[1mColumns: \u001b[22m\u001b[34m27\u001b[39m\n",
      "\n",
      "\u001b[36m──\u001b[39m \u001b[1mColumn specification\u001b[22m \u001b[36m────────────────────────────────────────────────────────────────────────────────────────────────\u001b[39m\n",
      "\u001b[1mDelimiter:\u001b[22m \",\"\n",
      "\u001b[32mdbl\u001b[39m (27): ID, year, pop_den, road_dist, x, y, province, agri_zone, mine_dist...\n",
      "\n",
      "\n",
      "\u001b[36mℹ\u001b[39m Use \u001b[30m\u001b[47m\u001b[30m\u001b[47m`spec()`\u001b[47m\u001b[30m\u001b[49m\u001b[39m to retrieve the full column specification for this data.\n",
      "\u001b[36mℹ\u001b[39m Specify the column types or set \u001b[30m\u001b[47m\u001b[30m\u001b[47m`show_col_types = FALSE`\u001b[47m\u001b[30m\u001b[49m\u001b[39m to quiet this message.\n",
      "\n"
     ]
    }
   ],
   "source": [
    "##load in the dataset of confounders\n",
    "conf <- read_csv(paste0(data_path,\"dfs/confounders.csv\"), show_col_types = FALSE)"
   ]
  },
  {
   "cell_type": "code",
   "execution_count": 6,
   "id": "clinical-giant",
   "metadata": {},
   "outputs": [],
   "source": [
    "##select just final matching confoudners\n",
    "conf <- conf %>%\n",
    "        dplyr:::select(ID, year, x, y, province, tc, tc_pre_yr, tc_sd, loss, loss_tcw, loss_2yr_bin, mine_dist, \n",
    "                       road_dist, elevation, slope, pop_den, burn_pre_2yr, pa, agri_zone)"
   ]
  },
  {
   "cell_type": "code",
   "execution_count": 7,
   "id": "1e381cb2-c33e-423b-b135-9b264987c140",
   "metadata": {},
   "outputs": [],
   "source": [
    "#load in the reference raster grid\n",
    "ref_m <- raster(paste(data_path,'zam_ref_m.tif', sep = \"/\"))\n",
    "names(ref_m) <- 'ID'"
   ]
  },
  {
   "cell_type": "markdown",
   "id": "b222ab6b-5cab-49a1-ae98-e22187df92f8",
   "metadata": {},
   "source": [
    " ## Assign treatment and controls to pixels"
   ]
  },
  {
   "cell_type": "code",
   "execution_count": 8,
   "id": "dd0566f7-d849-4b97-ae88-ddd2a75e0d5c",
   "metadata": {},
   "outputs": [
    {
     "name": "stdout",
     "output_type": "stream",
     "text": [
      "Reading layer `LML' from data source \n",
      "  `/exports/csce/datastore/geos/users/s0834538/zam_match_data_final/mine_leases/LML' \n",
      "  using driver `ESRI Shapefile'\n",
      "Simple feature collection with 108 features and 41 fields\n",
      "Geometry type: POLYGON\n",
      "Dimension:     XY\n",
      "Bounding box:  xmin: 24.01493 ymin: -17.46775 xmax: 32.86183 ymax: -10.93495\n",
      "Geodetic CRS:  WGS 84\n"
     ]
    }
   ],
   "source": [
    "##read in the large scale mining leases\n",
    "lmls <- st_read(dsn = paste0(data_path, \"mine_leases/LML\"), layer = \"LML\") "
   ]
  },
  {
   "cell_type": "code",
   "execution_count": 9,
   "id": "1d6451ed-fb76-4df8-9fd3-8e558253d72c",
   "metadata": {},
   "outputs": [
    {
     "name": "stderr",
     "output_type": "stream",
     "text": [
      "\u001b[1mRows: \u001b[22m\u001b[34m108\u001b[39m \u001b[1mColumns: \u001b[22m\u001b[34m4\u001b[39m\n",
      "\n",
      "\u001b[36m──\u001b[39m \u001b[1mColumn specification\u001b[22m \u001b[36m────────────────────────────────────────────────────────────────────────────────────────────────\u001b[39m\n",
      "\u001b[1mDelimiter:\u001b[22m \",\"\n",
      "\u001b[31mchr\u001b[39m (4): Code, active_from, Commdts, mine\n",
      "\n",
      "\n",
      "\u001b[36mℹ\u001b[39m Use \u001b[30m\u001b[47m\u001b[30m\u001b[47m`spec()`\u001b[47m\u001b[30m\u001b[49m\u001b[39m to retrieve the full column specification for this data.\n",
      "\u001b[36mℹ\u001b[39m Specify the column types or set \u001b[30m\u001b[47m\u001b[30m\u001b[47m`show_col_types = FALSE`\u001b[47m\u001b[30m\u001b[49m\u001b[39m to quiet this message.\n",
      "\n"
     ]
    }
   ],
   "source": [
    "##read in the 'active from' details\n",
    "active <- read_csv('mines_active_from.csv')"
   ]
  },
  {
   "cell_type": "code",
   "execution_count": 10,
   "id": "232d691e-f3c0-4a92-82ce-b01719d93922",
   "metadata": {},
   "outputs": [],
   "source": [
    "##join the the active from inforamtion and remove the never active ones\n",
    "lmls <- lmls %>% left_join(active, by = 'Code') %>% filter(active_from != 'Never') "
   ]
  },
  {
   "cell_type": "code",
   "execution_count": 11,
   "id": "a7107e11-ec71-4a61-8d60-fed035288038",
   "metadata": {},
   "outputs": [],
   "source": [
    "##convert to meter based cordinate system\n",
    "lmls <- st_transform(lmls, crs =crs(ref_m))"
   ]
  },
  {
   "cell_type": "code",
   "execution_count": 12,
   "id": "d9b7c164-63d5-4a66-946c-2a20568de0b9",
   "metadata": {},
   "outputs": [
    {
     "data": {
      "text/html": [
       "<style>\n",
       ".list-inline {list-style: none; margin:0; padding: 0}\n",
       ".list-inline>li {display: inline-block}\n",
       ".list-inline>li:not(:last-child)::after {content: \"\\00b7\"; padding: 0 .5ex}\n",
       "</style>\n",
       "<ol class=list-inline><li>'m01'</li><li>'m02'</li><li>'m03'</li><li>'m04'</li><li>'m05'</li><li>'m06'</li><li>'m07'</li><li>'m08'</li><li>'m09'</li><li>'m10'</li><li>'m11'</li><li>'m12'</li><li>'m13'</li><li>'m14'</li><li>'m15'</li><li>'m16'</li><li>'m17'</li><li>'m18'</li><li>'m19'</li><li>'m20'</li><li>'m21'</li><li>'m22'</li></ol>\n"
      ],
      "text/latex": [
       "\\begin{enumerate*}\n",
       "\\item 'm01'\n",
       "\\item 'm02'\n",
       "\\item 'm03'\n",
       "\\item 'm04'\n",
       "\\item 'm05'\n",
       "\\item 'm06'\n",
       "\\item 'm07'\n",
       "\\item 'm08'\n",
       "\\item 'm09'\n",
       "\\item 'm10'\n",
       "\\item 'm11'\n",
       "\\item 'm12'\n",
       "\\item 'm13'\n",
       "\\item 'm14'\n",
       "\\item 'm15'\n",
       "\\item 'm16'\n",
       "\\item 'm17'\n",
       "\\item 'm18'\n",
       "\\item 'm19'\n",
       "\\item 'm20'\n",
       "\\item 'm21'\n",
       "\\item 'm22'\n",
       "\\end{enumerate*}\n"
      ],
      "text/markdown": [
       "1. 'm01'\n",
       "2. 'm02'\n",
       "3. 'm03'\n",
       "4. 'm04'\n",
       "5. 'm05'\n",
       "6. 'm06'\n",
       "7. 'm07'\n",
       "8. 'm08'\n",
       "9. 'm09'\n",
       "10. 'm10'\n",
       "11. 'm11'\n",
       "12. 'm12'\n",
       "13. 'm13'\n",
       "14. 'm14'\n",
       "15. 'm15'\n",
       "16. 'm16'\n",
       "17. 'm17'\n",
       "18. 'm18'\n",
       "19. 'm19'\n",
       "20. 'm20'\n",
       "21. 'm21'\n",
       "22. 'm22'\n",
       "\n",
       "\n"
      ],
      "text/plain": [
       " [1] \"m01\" \"m02\" \"m03\" \"m04\" \"m05\" \"m06\" \"m07\" \"m08\" \"m09\" \"m10\" \"m11\" \"m12\"\n",
       "[13] \"m13\" \"m14\" \"m15\" \"m16\" \"m17\" \"m18\" \"m19\" \"m20\" \"m21\" \"m22\""
      ]
     },
     "metadata": {},
     "output_type": "display_data"
    }
   ],
   "source": [
    "##crerate a lsit of miens ordered by active year\n",
    "mines <- unique(lmls$mine)\n",
    "mines <- sort(mines[mines!=0])\n",
    "mines"
   ]
  },
  {
   "cell_type": "code",
   "execution_count": 13,
   "id": "a338991e-9aac-401e-bf36-0eae123a164a",
   "metadata": {},
   "outputs": [
    {
     "name": "stderr",
     "output_type": "stream",
     "text": [
      "`summarise()` has grouped output by 'mine'. You can override using the `.groups` argument.\n",
      "\n"
     ]
    }
   ],
   "source": [
    "##select treatment mines \n",
    "trt_mines = lmls %>% \n",
    "            filter(mine %in% mines) %>% \n",
    "            dplyr::select(mine, active_from) %>%\n",
    "#merge the adjecent leases that are part of the same mine \n",
    "            group_by(mine, active_from) %>% \n",
    "            summarize()  %>% \n",
    "            st_union(by_feature = TRUE)\n",
    "\n",
    "##create a mine active dataframe\n",
    "ma <- trt_mines %>% st_drop_geometry()\n",
    "\n",
    "##and split into lsit of seperate objects\n",
    "split_tm=split(trt_mines, trt_mines$mine)"
   ]
  },
  {
   "cell_type": "code",
   "execution_count": 98,
   "id": "solar-steering",
   "metadata": {},
   "outputs": [],
   "source": [
    "##save the list of treatment mines as a df\n",
    "#write.csv(ma,paste(data_path,\"dfs/mine_tyr.csv\", sep=\"/\"), row.names = FALSE)"
   ]
  },
  {
   "cell_type": "code",
   "execution_count": 14,
   "id": "moved-casting",
   "metadata": {},
   "outputs": [],
   "source": [
    "###create a lsit of rasters for each mine with buffer\n",
    "##set empty list for rasters\n",
    "t = list()\n",
    "##loop over the elements \n",
    "for (i in 1:length(split_tm)){\n",
    "    ##buffer each mine by 25km and rasterize.\n",
    "    t[[i]] <- rasterize(st_buffer(split_tm[[i]], dist = 25000), ref_m, field = 1, background = 0)\n",
    "    ##convert 0's to NA \n",
    "    t[[i]][t[[i]]<1] <- NA\n",
    "}"
   ]
  },
  {
   "cell_type": "code",
   "execution_count": 15,
   "id": "fifth-milwaukee",
   "metadata": {},
   "outputs": [
    {
     "name": "stderr",
     "output_type": "stream",
     "text": [
      "Loading required namespace: igraph\n",
      "\n"
     ]
    }
   ],
   "source": [
    "##calcaute a distance layer for each treatment mine \n",
    "d = list()\n",
    "##loop over the elements \n",
    "for (i in 1:length(split_tm)){\n",
    "    d[[i]] <- gridDistance(rasterize(split_tm[[i]], ref_m, field = 1), origin = 1)\n",
    "    }"
   ]
  },
  {
   "cell_type": "code",
   "execution_count": 16,
   "id": "whole-embassy",
   "metadata": {},
   "outputs": [],
   "source": [
    "##create new acvite year varable - either year active or active before 2000 - uncertian are treated as active in 2000\n",
    "lmls$active2 <- ifelse(lmls$active_from == 'pre-2000' | lmls$active_from ==\"Unclear\", 2000, lmls$active_from)\n",
    "##split into year \n",
    "split_ym=split(lmls, lmls$active2)"
   ]
  },
  {
   "cell_type": "code",
   "execution_count": 17,
   "id": "legislative-computer",
   "metadata": {},
   "outputs": [
    {
     "data": {
      "text/html": [
       "<style>\n",
       ".list-inline {list-style: none; margin:0; padding: 0}\n",
       ".list-inline>li {display: inline-block}\n",
       ".list-inline>li:not(:last-child)::after {content: \"\\00b7\"; padding: 0 .5ex}\n",
       "</style>\n",
       "<ol class=list-inline><li>2000</li><li>2004</li><li>2006</li><li>2008</li><li>2011</li><li>2012</li><li>2013</li><li>2014</li><li>2015</li><li>2017</li><li>2019</li><li>2020</li></ol>\n"
      ],
      "text/latex": [
       "\\begin{enumerate*}\n",
       "\\item 2000\n",
       "\\item 2004\n",
       "\\item 2006\n",
       "\\item 2008\n",
       "\\item 2011\n",
       "\\item 2012\n",
       "\\item 2013\n",
       "\\item 2014\n",
       "\\item 2015\n",
       "\\item 2017\n",
       "\\item 2019\n",
       "\\item 2020\n",
       "\\end{enumerate*}\n"
      ],
      "text/markdown": [
       "1. 2000\n",
       "2. 2004\n",
       "3. 2006\n",
       "4. 2008\n",
       "5. 2011\n",
       "6. 2012\n",
       "7. 2013\n",
       "8. 2014\n",
       "9. 2015\n",
       "10. 2017\n",
       "11. 2019\n",
       "12. 2020\n",
       "\n",
       "\n"
      ],
      "text/plain": [
       " [1] 2000 2004 2006 2008 2011 2012 2013 2014 2015 2017 2019 2020"
      ]
     },
     "metadata": {},
     "output_type": "display_data"
    }
   ],
   "source": [
    "mine_years <- as.numeric(names(split_ym))\n",
    "mine_years"
   ]
  },
  {
   "cell_type": "code",
   "execution_count": 18,
   "id": "critical-characteristic",
   "metadata": {},
   "outputs": [],
   "source": [
    "years = seq(2000,2019)"
   ]
  },
  {
   "cell_type": "code",
   "execution_count": 19,
   "id": "specific-cosmetic",
   "metadata": {},
   "outputs": [],
   "source": [
    "##calcaute a distance layer for active mines each year a new becomes active \n",
    "##take either the min distnace from mine and the previous year unless its the first year\n",
    "##empty list\n",
    "dy = list()\n",
    "for (i in 1:length(split_ym)){\n",
    "            if (i == 1) {\n",
    "         # for the 1st year just the distance\n",
    "                dy[[i]] <- gridDistance(rasterize(split_ym[[i]], ref_m, field = 1), origin = 1)\n",
    "            } else {\n",
    "                #for other years the min of the yearly distance and the distance in the previous year - creating a culamtive min distance to mine\n",
    "                dy[[i]] <- min(gridDistance(rasterize(split_ym[[i]], ref_m, field = 1), origin = 1),  dy[[i-1]])\n",
    "        }}"
   ]
  },
  {
   "cell_type": "code",
   "execution_count": 20,
   "id": "applied-relationship",
   "metadata": {},
   "outputs": [],
   "source": [
    "##create a distance to nearest mine for all years eaul to ewither the distance to nearest mine if a new mine year of thre previosu year if not\n",
    "dy_all = list()\n",
    "j = 0\n",
    "for (i in 1:length(years)) {\n",
    "    if((i + 1999) %in% mine_years) {\n",
    "        j = j +1\n",
    "        dy_all[[i]] <- dy[[j]]\n",
    "    } else {\n",
    "        dy_all[[i]] <- dy_all[[i-1]]\n",
    "}\n",
    "}"
   ]
  },
  {
   "cell_type": "code",
   "execution_count": 21,
   "id": "intensive-french",
   "metadata": {},
   "outputs": [],
   "source": [
    "##convert list of rasters to raster stacks \n",
    "trt <- stack(unlist(t))\n",
    "trt_dist <- stack(unlist(d))\n",
    "nm_stack <- stack(unlist(dy_all))"
   ]
  },
  {
   "cell_type": "code",
   "execution_count": 22,
   "id": "champion-while",
   "metadata": {},
   "outputs": [],
   "source": [
    "##add names to the lists of rasters\n",
    "names(trt) <- rep('treatment',22)\n",
    "names(trt_dist) <- rep('trt_dist',22)\n",
    "names(nm_stack) <- paste(\"near_m\", years, sep= \"_\")"
   ]
  },
  {
   "cell_type": "code",
   "execution_count": 23,
   "id": "considered-gabriel",
   "metadata": {},
   "outputs": [
    {
     "name": "stdout",
     "output_type": "stream",
     "text": [
      "Reading layer `LEL' from data source \n",
      "  `/exports/csce/datastore/geos/users/s0834538/zam_match_data_final/mine_leases/LEL' \n",
      "  using driver `ESRI Shapefile'\n",
      "Simple feature collection with 1000 features and 41 fields\n",
      "Geometry type: POLYGON\n",
      "Dimension:     XY\n",
      "Bounding box:  xmin: 21.99987 ymin: -17.96271 xmax: 33.70352 ymax: -8.398505\n",
      "Geodetic CRS:  WGS 84\n",
      "Reading layer `SML' from data source \n",
      "  `/exports/csce/datastore/geos/users/s0834538/zam_match_data_final/mine_leases/SML' \n",
      "  using driver `ESRI Shapefile'\n",
      "Simple feature collection with 532 features and 41 fields\n",
      "Geometry type: POLYGON\n",
      "Dimension:     XY\n",
      "Bounding box:  xmin: 23.19657 ymin: -17.83605 xmax: 33.31184 ymax: -8.498496\n",
      "Geodetic CRS:  WGS 84\n"
     ]
    }
   ],
   "source": [
    "##read in the lel control dataset\n",
    "lels <- st_read(dsn = paste(data_path, \"mine_leases/LEL\", sep = \"/\"), layer = \"LEL\") \n",
    "##read inthe small scale mining dataset to exclude them\n",
    "smls <- st_read(dsn = paste(data_path, \"mine_leases/SML\", sep = \"/\"), layer = \"SML\") "
   ]
  },
  {
   "cell_type": "code",
   "execution_count": 24,
   "id": "double-heavy",
   "metadata": {},
   "outputs": [],
   "source": [
    "##reproject to meter system\n",
    "lels <-st_transform(lels, crs=crs(lmls))\n",
    "smls <-st_transform(smls, crs=crs(lmls))"
   ]
  },
  {
   "cell_type": "code",
   "execution_count": 25,
   "id": "neutral-shadow",
   "metadata": {},
   "outputs": [],
   "source": [
    "##create a mask of all treated and prevously acted mines to act as a mask for controls \n",
    "lml_mask <- trt\n",
    "lml_mask[is.na(lml_mask)] <- 0\n",
    "lml_mask <- sum(lml_mask)\n",
    "lml_mask[lml_mask>0] <- NA"
   ]
  },
  {
   "cell_type": "code",
   "execution_count": 26,
   "id": "owned-peripheral",
   "metadata": {},
   "outputs": [],
   "source": [
    "##add the smls rasterized (buffer by 5 to ensure no controls within mines)\n",
    "sml_mask <- rasterize(st_buffer(smls, dist = 5), ref_m, field = NA, background = 0)"
   ]
  },
  {
   "cell_type": "code",
   "execution_count": 27,
   "id": "scientific-helmet",
   "metadata": {},
   "outputs": [],
   "source": [
    "mine_mask <- lml_mask + sml_mask\n",
    "names(mine_mask) <- 'mine_mask'"
   ]
  },
  {
   "cell_type": "code",
   "execution_count": 28,
   "id": "virtual-polls",
   "metadata": {},
   "outputs": [],
   "source": [
    "##rasterize the LELs and add the mask to create the controls\n",
    "lel_cons <- rasterize(lels, ref_m, field = 1) + mine_mask\n",
    "names(lel_cons) <- 'lel_controls'"
   ]
  },
  {
   "cell_type": "code",
   "execution_count": 29,
   "id": "comparable-mileage",
   "metadata": {},
   "outputs": [],
   "source": [
    "##create the non-lel controls - everywhere in Zambia that is not in the mask\n",
    "nlel_cons <- mine_mask\n",
    "nlel_cons[nlel_cons==0] <- 1\n",
    "names(nlel_cons) <- 'nlel_controls'"
   ]
  },
  {
   "cell_type": "code",
   "execution_count": 30,
   "id": "transsexual-faculty",
   "metadata": {},
   "outputs": [],
   "source": [
    "##export the raster stacks\n",
    "#writeRaster(t_stack, paste(data_path, \"treatments.tif\",  sep = \"/\"), overwrite=TRUE)\n",
    "\n",
    "#writeRaster(lel_cons, paste(data_path, \"lel_controls.tif\",  sep = \"/\"), overwrite=TRUE)\n",
    "#writeRaster(nlel_cons, paste(data_path, \"nlel_controls.tif\",  sep = \"/\"), overwrite=TRUE)\n",
    "#writeRaster(mine_mask, paste(data_path, \"mine_mask.tif\",  sep = \"/\"), overwrite=TRUE)\n",
    "\n",
    "#writeRaster(d_stack, paste(data_path, \"mine_dist.tif\",  sep = \"/\"), overwrite=TRUE)\n",
    "#writeRaster(nm_stack, paste(data_path, \"yr_mine_dist.tif\",  sep = \"/\"), overwrite=TRUE)"
   ]
  },
  {
   "cell_type": "code",
   "execution_count": 31,
   "id": "confident-priest",
   "metadata": {},
   "outputs": [],
   "source": [
    "##create list of cells which had greater than 10% forest cover in 2000\n",
    "##df of forest above 10% at start\n",
    "tc_df10 <- filter(conf, year == \"2000\") %>% \n",
    "            filter(tc > 10) %>%\n",
    "            dplyr:::select(ID)"
   ]
  },
  {
   "cell_type": "code",
   "execution_count": 32,
   "id": "awful-ground",
   "metadata": {},
   "outputs": [
    {
     "data": {
      "text/html": [
       "784769"
      ],
      "text/latex": [
       "784769"
      ],
      "text/markdown": [
       "784769"
      ],
      "text/plain": [
       "[1] 784769"
      ]
     },
     "metadata": {},
     "output_type": "display_data"
    },
    {
     "data": {
      "text/html": [
       "615989"
      ],
      "text/latex": [
       "615989"
      ],
      "text/markdown": [
       "615989"
      ],
      "text/plain": [
       "[1] 615989"
      ]
     },
     "metadata": {},
     "output_type": "display_data"
    }
   ],
   "source": [
    "length(unique(conf$ID))\n",
    "length(tc_df10$ID)"
   ]
  },
  {
   "cell_type": "markdown",
   "id": "yellow-certificate",
   "metadata": {
    "tags": []
   },
   "source": [
    "## a dataset for each mine for mine level matching - Controls from LELs"
   ]
  },
  {
   "cell_type": "code",
   "execution_count": 33,
   "id": "existing-trouble",
   "metadata": {},
   "outputs": [],
   "source": [
    "##cretae a dataframe of LEL controls with ID value\n",
    "lel_cons_df <- as.data.frame(stack(ref_m, lel_cons)) %>% \n",
    "                filter(ID %in% tc_df10$ID) %>% \n",
    "                    mutate_all(~replace(., is.na(.), 0))"
   ]
  },
  {
   "cell_type": "code",
   "execution_count": 34,
   "id": "determined-hawaii",
   "metadata": {},
   "outputs": [],
   "source": [
    "m = list()\n",
    "##loop the mines and create dataframes\n",
    "for (i in 1:length(mines)) {\n",
    "    \n",
    "    df = filter(conf, year == (filter(ma, mine == paste(mines[i])))$active_from)\n",
    "    \n",
    "    m[[i]] <- as.data.frame(stack(ref_m, trt[[i]], trt_dist[[i]])) %>% \n",
    "                filter(ID %in% tc_df10$ID) %>% \n",
    "                rename(\"treatment\" = names(.)[2], 'trt_dist'= names(.)[3]) %>% \n",
    "                left_join(lel_cons_df, by = \"ID\") %>%\n",
    "                mutate(trt_con = ifelse(lel_controls == 1, 0, ifelse(treatment == 1,1, -1))) %>%\n",
    "                dplyr:::select(-treatment,-lel_controls) %>%\n",
    "                filter(trt_con >= 0) %>% \n",
    "                left_join(df, by =\"ID\")    \n",
    "} "
   ]
  },
  {
   "cell_type": "code",
   "execution_count": null,
   "id": "suited-funds",
   "metadata": {},
   "outputs": [],
   "source": [
    "##save the mine dfs \n",
    "for (i in 1:length(mines)) {\n",
    "    write.csv(m[[i]], paste(data_path,\"/dfs/um_mines/\", mines[i], \".csv\", sep=\"\"), row.names = FALSE)\n",
    "}"
   ]
  },
  {
   "cell_type": "markdown",
   "id": "26b5de4c-e63e-4486-818a-2ae7423fce48",
   "metadata": {
    "tags": []
   },
   "source": [
    "## a dataset for each mine for mine level matching - Controls from anywhere not mined"
   ]
  },
  {
   "cell_type": "code",
   "execution_count": null,
   "id": "modified-window",
   "metadata": {},
   "outputs": [],
   "source": [
    "##cretae a dataframe of controls from anywhere in zambia not mined with ID value\n",
    "nlel_cons_df <- as.data.frame(stack(ref_m, nlel_cons)) %>% \n",
    "                filter(ID %in% tc_df10$ID) %>% \n",
    "                mutate_all(~replace(., is.na(.), 0))"
   ]
  },
  {
   "cell_type": "code",
   "execution_count": null,
   "id": "further-happening",
   "metadata": {},
   "outputs": [],
   "source": [
    "##dataset - Unmatched non-lel controls \n",
    "mn = list()\n",
    "##loop the mines and create dataframe\n",
    "for (i in 1:length(mines)) {\n",
    "     df = filter(conf, year == (filter(ma, mine == paste(mines[i])))$active_from)\n",
    "    \n",
    "     mn[[i]] <- as.data.frame(stack(ref_m, trt[[i]], trt_dist[[i]])) %>% \n",
    "                filter(ID %in% tc_df10$ID) %>% \n",
    "                rename(\"treatment\" = names(.)[2], 'trt_dist'= names(.)[3]) %>% \n",
    "                left_join(nlel_cons_df, by = \"ID\") %>%\n",
    "                mutate(trt_con = ifelse(nlel_controls == 1, 0, ifelse(treatment == 1,1, -1))) %>%\n",
    "                dplyr:::select(-treatment,-nlel_controls) %>%\n",
    "                filter(trt_con >= 0) %>% \n",
    "                left_join(df, by =\"ID\")\n",
    "    }"
   ]
  },
  {
   "cell_type": "code",
   "execution_count": null,
   "id": "chubby-appreciation",
   "metadata": {},
   "outputs": [],
   "source": [
    "##save the mine dfs \n",
    "for (i in 1:length(mines)) {\n",
    "    write.csv(mn[[i]], paste(data_path,\"/dfs/um_mines_nlel/\", mines[i], \".csv\", sep=\"\"), row.names = FALSE)\n",
    "}"
   ]
  },
  {
   "cell_type": "code",
   "execution_count": null,
   "id": "auburn-holiday",
   "metadata": {},
   "outputs": [],
   "source": [
    "##dataset of just mines - treatments only \n",
    "mt = list()\n",
    "##loop the mines and create dataframe\n",
    "for (i in 1:length(mines)) {\n",
    "     df = filter(conf, year == (filter(ma, mine == paste(mines[i])))$active_from)\n",
    "     mt[[i]] <- as.data.frame(stack(ref_m, trt[[i]], trt_dist[[i]])) %>% \n",
    "                rename(\"treatment\" = names(.)[2], 'trt_dist'= names(.)[3]) %>%\n",
    "                left_join(df, by =\"ID\")    \n",
    "} "
   ]
  },
  {
   "cell_type": "code",
   "execution_count": null,
   "id": "prepared-manual",
   "metadata": {},
   "outputs": [],
   "source": [
    "##save the mine dfs \n",
    "for (i in 1:length(mines)) {\n",
    "    write.csv(mt[[i]], paste(data_path,\"/dfs/only_mines/\", mines[i], \".csv\", sep=\"\"), row.names = FALSE)\n",
    "}"
   ]
  },
  {
   "cell_type": "markdown",
   "id": "dominican-consultancy",
   "metadata": {},
   "source": [
    "## regualr sampling - remvoe neighbours - reduce size and SA"
   ]
  },
  {
   "cell_type": "code",
   "execution_count": null,
   "id": "later-swiss",
   "metadata": {},
   "outputs": [],
   "source": [
    "##redo for a 25% sampling - bottom left of a 2 x 2 square is kept\n",
    "row <- rep(c(NA),(dim(ref_m)[2])) # first row\n",
    "row2 <- rep(c(NA,0),(dim(ref_m)[2]/2)) # second\n",
    "\n",
    "samples <- c(rep(c(row,row2), dim(ref_m)[1]/2),row) ##repaeat for the y dimenson plus and extra row as odd number"
   ]
  },
  {
   "cell_type": "code",
   "execution_count": null,
   "id": "funny-plane",
   "metadata": {},
   "outputs": [],
   "source": [
    "sample_rast25 <- setValues(raster(ref_m),samples)"
   ]
  },
  {
   "cell_type": "code",
   "execution_count": null,
   "id": "photographic-bradford",
   "metadata": {},
   "outputs": [],
   "source": [
    "##redo for a 11% sampling - bottom left of a 3 x 3 square is kept\n",
    "row <- rep(c(NA),(dim(ref_m)[2])) # first and second row\n",
    "row2 <- rep(c(NA,0,NA),(dim(ref_m)[2]/3)) # third row\n",
    "\n",
    "samples <- c(rep(c(row,row, row2), dim(ref_m)[1]/3)) ##repeat for the y dimenson plus and extra row as odd number"
   ]
  },
  {
   "cell_type": "code",
   "execution_count": null,
   "id": "silent-third",
   "metadata": {},
   "outputs": [],
   "source": [
    "sample_rast11 <- setValues(raster(ref_m),samples)"
   ]
  },
  {
   "cell_type": "code",
   "execution_count": null,
   "id": "adaptive-peter",
   "metadata": {},
   "outputs": [],
   "source": [
    "writeRaster(sample_rast25, paste(data_path, \"sample_rast25.tif\",  sep = \"/\"), overwrite=TRUE)\n",
    "writeRaster(sample_rast11, paste(data_path, \"sample_rast11.tif\",  sep = \"/\"), overwrite=TRUE)"
   ]
  },
  {
   "cell_type": "markdown",
   "id": "finished-colors",
   "metadata": {},
   "source": [
    "## Repeat with regular sampling to 25%"
   ]
  },
  {
   "cell_type": "code",
   "execution_count": null,
   "id": "executed-victoria",
   "metadata": {},
   "outputs": [],
   "source": [
    "lel_cons25 <- lel_cons + sample_rast25\n",
    "names(lel_cons25) <- 'lel_controls'\n",
    "lel_cons25_df <- as.data.frame(stack(ref_m, lel_cons25)) %>% \n",
    "                    filter(ID %in% tc_df10$ID) %>% \n",
    "                    mutate_all(~replace(., is.na(.), 0))"
   ]
  },
  {
   "cell_type": "code",
   "execution_count": null,
   "id": "cutting-triple",
   "metadata": {},
   "outputs": [],
   "source": [
    "ms25 = list()\n",
    "##loop the mines and create dataframe\n",
    "for (i in 1:length(mines)) {\n",
    "    df = filter(conf, year == (filter(ma, mine == paste(mines[i])))$active_from)\n",
    "    ms25[[i]] <- as.data.frame(stack(ref_m,(trt[[i]] + sample_rast25), trt_dist[[i]])) %>% \n",
    "                filter(ID %in% tc_df10$ID) %>% \n",
    "                mutate_all(~replace(., is.na(.), 0)) %>%  \n",
    "                rename(\"treatment\" = names(.)[2], 'trt_dist'= names(.)[3]) %>% \n",
    "                left_join(lel_cons25_df, by = \"ID\") %>%\n",
    "                mutate(trt_con = ifelse(lel_controls == 1, 0, ifelse(treatment == 1,1, -1))) %>%\n",
    "                dplyr:::select(-treatment,-lel_controls) %>%\n",
    "                filter(trt_con >= 0) %>% left_join(df, by =\"ID\")    \n",
    "} "
   ]
  },
  {
   "cell_type": "code",
   "execution_count": null,
   "id": "lasting-secretariat",
   "metadata": {},
   "outputs": [],
   "source": [
    "##save the mine dfs \n",
    "for (i in 1:length(mines)) {\n",
    "    write.csv(ms25[[i]], paste(data_path,\"/dfs/um_mines_rs_25/\", mines[i], \".csv\", sep=\"\"), row.names = FALSE)\n",
    "}"
   ]
  },
  {
   "cell_type": "markdown",
   "id": "appropriate-puzzle",
   "metadata": {},
   "source": [
    "## Repeat with regular sampling to 11%"
   ]
  },
  {
   "cell_type": "code",
   "execution_count": null,
   "id": "cubic-taxation",
   "metadata": {},
   "outputs": [],
   "source": [
    "lel_cons11 <- lel_cons + sample_rast11\n",
    "names(lel_cons11) <- 'lel_controls'\n",
    "lel_cons11_df <- as.data.frame(stack(ref_m, lel_cons11)) %>% \n",
    "                    filter(ID %in% tc_df10$ID) %>% \n",
    "                    mutate_all(~replace(., is.na(.), 0))"
   ]
  },
  {
   "cell_type": "code",
   "execution_count": null,
   "id": "dental-edmonton",
   "metadata": {},
   "outputs": [],
   "source": [
    "ms11 = list()\n",
    "##loop the mines and create dataframe\n",
    "for (i in 1:length(mines)) {\n",
    "    df = filter(conf, year == (filter(ma, mine == paste(mines[i])))$active_from)\n",
    "    ms11[[i]] <- as.data.frame(stack(ref_m,(trt[[i]] + sample_rast11), trt_dist[[i]])) %>% \n",
    "                filter(ID > 0 & ID %in% tc_df10$ID) %>% \n",
    "                mutate_all(~replace(., is.na(.), 0)) %>%  \n",
    "                rename(\"treatment\" = names(.)[2], 'trt_dist'= names(.)[3]) %>% \n",
    "                left_join(lel_cons11_df, by = \"ID\") %>%\n",
    "                mutate(trt_con = ifelse(lel_controls == 1, 0, ifelse(treatment == 1,1, -1))) %>%\n",
    "                dplyr:::select(-treatment,-lel_controls) %>%\n",
    "                filter(trt_con >= 0) %>% \n",
    "                left_join(df, by =\"ID\")    \n",
    "} "
   ]
  },
  {
   "cell_type": "code",
   "execution_count": null,
   "id": "center-spirit",
   "metadata": {},
   "outputs": [],
   "source": [
    "##save the mine dfs \n",
    "for (i in 1:length(mines)) {\n",
    "    write.csv(ms11[[i]], paste(data_path,\"/dfs/um_mines_rs_11/\", mines[i], \".csv\", sep=\"\"), row.names = FALSE)\n",
    "}"
   ]
  },
  {
   "cell_type": "markdown",
   "id": "short-synthesis",
   "metadata": {},
   "source": [
    "## Non LEL controls at 25% sampling"
   ]
  },
  {
   "cell_type": "code",
   "execution_count": 221,
   "id": "retained-importance",
   "metadata": {},
   "outputs": [],
   "source": [
    "nlel_cons25 <- nlel_cons + sample_rast25\n",
    "names(nlel_cons25) <- 'nlel_controls'\n",
    "nlel_cons_df <- as.data.frame(stack(ref_m, nlel_cons25)) %>% \n",
    "                filter(ID %in% tc_df10$ID) %>% \n",
    "                mutate_all(~replace(., is.na(.), 0))"
   ]
  },
  {
   "cell_type": "code",
   "execution_count": 222,
   "id": "painted-gentleman",
   "metadata": {},
   "outputs": [],
   "source": [
    "##dataset - Unmatched non-lel controls \n",
    "mn25 = list()\n",
    "##loop the mines and create dataframe\n",
    "for (i in 1:length(mines)) {\n",
    "    mine_year <- filter(ma, mine == paste(mines[i]))$active_from\n",
    "    df = filter(conf, year == (filter(ma, mine == paste(mines[i])))$active_from)\n",
    "    mn25[[i]] <- as.data.frame(stack(ref_m,(trt[[i]] + sample_rast25), trt_dist[[i]])) %>% \n",
    "                filter(ID %in% tc_df10$ID)  %>%\n",
    "                mutate_all(~replace(., is.na(.), 0)) %>% \n",
    "                rename(\"treatment\" = names(.)[2], 'trt_dist'= names(.)[3]) %>% \n",
    "                left_join(nlel_cons_df, by = \"ID\") %>%\n",
    "                mutate(trt_con = ifelse(nlel_controls == 1, 0, ifelse(treatment == 1,1, -1))) %>%\n",
    "                dplyr:::select(-treatment,-nlel_controls) %>%\n",
    "                filter(trt_con >= 0) %>% \n",
    "                left_join(df, by =\"ID\")\n",
    "    }"
   ]
  },
  {
   "cell_type": "code",
   "execution_count": 223,
   "id": "controversial-legislation",
   "metadata": {},
   "outputs": [],
   "source": [
    "##save the mine dfs \n",
    "for (i in 1:length(mines)) {\n",
    "    write.csv(mn25[[i]], paste(data_path,\"/dfs/um_mines_nlel_rs_25/\", mines[i], \".csv\", sep=\"\"), row.names = FALSE)\n",
    "}"
   ]
  },
  {
   "cell_type": "markdown",
   "id": "suited-tanzania",
   "metadata": {},
   "source": [
    "## non LEL controls at 11% sampling"
   ]
  },
  {
   "cell_type": "code",
   "execution_count": 224,
   "id": "choice-toronto",
   "metadata": {},
   "outputs": [],
   "source": [
    "nlel_cons11 <- nlel_cons + sample_rast11\n",
    "names(nlel_cons11) <- 'nlel_controls'\n",
    "nlel_cons_df <- as.data.frame(stack(ref_m, nlel_cons11)) %>% \n",
    "                filter(ID %in% tc_df10$ID) %>% \n",
    "                mutate_all(~replace(., is.na(.), 0))"
   ]
  },
  {
   "cell_type": "code",
   "execution_count": 225,
   "id": "cutting-boring",
   "metadata": {},
   "outputs": [],
   "source": [
    "##dataset - Unmatched non-lel controls \n",
    "mn11 = list()\n",
    "##loop the mines and create dataframe\n",
    "for (i in 1:length(mines)) {\n",
    "    mine_year <- filter(ma, mine == paste(mines[i]))$active_from\n",
    "    df = filter(conf, year == (filter(ma, mine == paste(mines[i])))$active_from)\n",
    "    mn11[[i]] <- as.data.frame(stack(ref_m,(trt[[i]] + sample_rast11), trt_dist[[i]])) %>% \n",
    "                filter(ID %in% tc_df10$ID)  %>%\n",
    "                mutate_all(~replace(., is.na(.), 0)) %>% \n",
    "                rename(\"treatment\" = names(.)[2], 'trt_dist'= names(.)[3]) %>% \n",
    "                left_join(nlel_cons_df, by = \"ID\") %>%\n",
    "                mutate(trt_con = ifelse(nlel_controls == 1, 0, ifelse(treatment == 1,1, -1))) %>%\n",
    "                dplyr:::select(-treatment,-nlel_controls) %>%\n",
    "                filter(trt_con >= 0) %>% \n",
    "                left_join(df, by =\"ID\")\n",
    "    }"
   ]
  },
  {
   "cell_type": "code",
   "execution_count": 226,
   "id": "distributed-stocks",
   "metadata": {},
   "outputs": [],
   "source": [
    "##save the mine dfs \n",
    "for (i in 1:length(mines)) {\n",
    "    write.csv(mn11[[i]], paste(data_path,\"/dfs/um_mines_nlel_rs_11/\", mines[i], \".csv\", sep=\"\"), row.names = FALSE)\n",
    "}"
   ]
  },
  {
   "cell_type": "code",
   "execution_count": 209,
   "id": "6bbda6bc-9af2-44c5-a5c3-9af3fa6b37b1",
   "metadata": {},
   "outputs": [
    {
     "data": {
      "text/plain": [
       "\n",
       "     0      1 \n",
       "186671   6365 "
      ]
     },
     "metadata": {},
     "output_type": "display_data"
    }
   ],
   "source": [
    "table(m[[1]]$trt_con)"
   ]
  },
  {
   "cell_type": "code",
   "execution_count": 210,
   "id": "rocky-alarm",
   "metadata": {},
   "outputs": [
    {
     "data": {
      "text/plain": [
       "\n",
       "    0     1 \n",
       "46681  1592 "
      ]
     },
     "metadata": {},
     "output_type": "display_data"
    }
   ],
   "source": [
    "table(ms25[[1]]$trt_con)"
   ]
  },
  {
   "cell_type": "code",
   "execution_count": 211,
   "id": "civic-collective",
   "metadata": {},
   "outputs": [
    {
     "data": {
      "text/plain": [
       "\n",
       "    0     1 \n",
       "20694   715 "
      ]
     },
     "metadata": {},
     "output_type": "display_data"
    }
   ],
   "source": [
    "table(ms11[[1]]$trt_con)"
   ]
  },
  {
   "cell_type": "code",
   "execution_count": 212,
   "id": "written-infrastructure",
   "metadata": {},
   "outputs": [
    {
     "data": {
      "text/plain": [
       "\n",
       "     0      1 \n",
       "584479   6365 "
      ]
     },
     "metadata": {},
     "output_type": "display_data"
    }
   ],
   "source": [
    "table(mn[[1]]$trt_con)"
   ]
  },
  {
   "cell_type": "code",
   "execution_count": 219,
   "id": "considerable-redhead",
   "metadata": {},
   "outputs": [
    {
     "data": {
      "text/plain": [
       "\n",
       "     0      1 \n",
       "146120   1592 "
      ]
     },
     "metadata": {},
     "output_type": "display_data"
    }
   ],
   "source": [
    "table(mn25[[1]]$trt_con)"
   ]
  },
  {
   "cell_type": "code",
   "execution_count": 227,
   "id": "serious-argument",
   "metadata": {},
   "outputs": [
    {
     "data": {
      "text/plain": [
       "\n",
       "    0     1 \n",
       "64902   715 "
      ]
     },
     "metadata": {},
     "output_type": "display_data"
    }
   ],
   "source": [
    "table(mn11[[1]]$trt_con)"
   ]
  },
  {
   "cell_type": "code",
   "execution_count": null,
   "id": "liked-leone",
   "metadata": {},
   "outputs": [],
   "source": []
  }
 ],
 "metadata": {
  "kernelspec": {
   "display_name": "R",
   "language": "R",
   "name": "ir"
  },
  "language_info": {
   "codemirror_mode": "r",
   "file_extension": ".r",
   "mimetype": "text/x-r-source",
   "name": "R",
   "pygments_lexer": "r",
   "version": "4.0.5"
  }
 },
 "nbformat": 4,
 "nbformat_minor": 5
}
