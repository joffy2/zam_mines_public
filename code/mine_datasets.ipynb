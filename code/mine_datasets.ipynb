{
 "cells": [
  {
   "cell_type": "markdown",
   "metadata": {},
   "source": [
    "# Create data frames for each mine for matching"
   ]
  },
  {
   "cell_type": "code",
   "execution_count": null,
   "metadata": {},
   "outputs": [],
   "source": [
    "##load packages\n",
    "library(tidyverse)\n",
    "library(sf)\n",
    "library(raster)"
   ]
  },
  {
   "cell_type": "code",
   "execution_count": null,
   "metadata": {},
   "outputs": [],
   "source": [
    "##set path to datasets\n",
    "data_path = \"PATH\"\n",
    "##set the temp directory for raster processing \n",
    "rasterOptions(tmpdir=\"~/scratch/\")"
   ]
  },
  {
   "cell_type": "code",
   "execution_count": null,
   "metadata": {},
   "outputs": [],
   "source": [
    "##load in the dataset of confounders\n",
    "conf <- read_csv(paste0(data_path,\"dfs/confounders.csv\"), show_col_types = FALSE)"
   ]
  },
  {
   "cell_type": "code",
   "execution_count": null,
   "metadata": {},
   "outputs": [],
   "source": [
    "##select just final matching confoudners\n",
    "conf <- conf %>%\n",
    "        dplyr:::select(ID, year, x, y, province, tc, tc_pre_yr, tc_sd, loss, loss_tcw, loss_2yr_bin, mine_dist, \n",
    "                       road_dist, elevation, slope, pop_den, burn_pre_2yr, pa, agri_zone)"
   ]
  },
  {
   "cell_type": "code",
   "execution_count": null,
   "metadata": {},
   "outputs": [],
   "source": [
    "#load in the reference raster grid\n",
    "ref_m <- raster(paste(data_path,'zam_ref_m.tif', sep = \"/\"))\n",
    "names(ref_m) <- 'ID'"
   ]
  },
  {
   "cell_type": "markdown",
   "metadata": {},
   "source": [
    " ## Assign treatment and controls to pixels"
   ]
  },
  {
   "cell_type": "code",
   "execution_count": null,
   "metadata": {},
   "outputs": [],
   "source": [
    "##read in the large scale mining leases\n",
    "lmls <- st_read(dsn = paste0(data_path, \"mine_leases/LML\"), layer = \"LML\") "
   ]
  },
  {
   "cell_type": "code",
   "execution_count": null,
   "metadata": {},
   "outputs": [],
   "source": [
    "##read in the 'active from' details\n",
    "active <- read_csv('mines_active_from.csv')"
   ]
  },
  {
   "cell_type": "code",
   "execution_count": null,
   "metadata": {},
   "outputs": [],
   "source": [
    "##join the the active from infromation and remove the never active ones\n",
    "lmls <- lmls %>% left_join(active, by = 'Code') %>% filter(active_from != 'Never') "
   ]
  },
  {
   "cell_type": "code",
   "execution_count": null,
   "metadata": {},
   "outputs": [],
   "source": [
    "##convert to meter based cordinate system\n",
    "lmls <- st_transform(lmls, crs =crs(ref_m))"
   ]
  },
  {
   "cell_type": "code",
   "execution_count": 12,
   "metadata": {},
   "outputs": [
    {
     "data": {
      "text/html": [
       "<style>\n",
       ".list-inline {list-style: none; margin:0; padding: 0}\n",
       ".list-inline>li {display: inline-block}\n",
       ".list-inline>li:not(:last-child)::after {content: \"\\00b7\"; padding: 0 .5ex}\n",
       "</style>\n",
       "<ol class=list-inline><li>'m01'</li><li>'m02'</li><li>'m03'</li><li>'m04'</li><li>'m05'</li><li>'m06'</li><li>'m07'</li><li>'m08'</li><li>'m09'</li><li>'m10'</li><li>'m11'</li><li>'m12'</li><li>'m13'</li><li>'m14'</li><li>'m15'</li><li>'m16'</li><li>'m17'</li><li>'m18'</li><li>'m19'</li><li>'m20'</li><li>'m21'</li><li>'m22'</li></ol>\n"
      ],
      "text/latex": [
       "\\begin{enumerate*}\n",
       "\\item 'm01'\n",
       "\\item 'm02'\n",
       "\\item 'm03'\n",
       "\\item 'm04'\n",
       "\\item 'm05'\n",
       "\\item 'm06'\n",
       "\\item 'm07'\n",
       "\\item 'm08'\n",
       "\\item 'm09'\n",
       "\\item 'm10'\n",
       "\\item 'm11'\n",
       "\\item 'm12'\n",
       "\\item 'm13'\n",
       "\\item 'm14'\n",
       "\\item 'm15'\n",
       "\\item 'm16'\n",
       "\\item 'm17'\n",
       "\\item 'm18'\n",
       "\\item 'm19'\n",
       "\\item 'm20'\n",
       "\\item 'm21'\n",
       "\\item 'm22'\n",
       "\\end{enumerate*}\n"
      ],
      "text/markdown": [
       "1. 'm01'\n",
       "2. 'm02'\n",
       "3. 'm03'\n",
       "4. 'm04'\n",
       "5. 'm05'\n",
       "6. 'm06'\n",
       "7. 'm07'\n",
       "8. 'm08'\n",
       "9. 'm09'\n",
       "10. 'm10'\n",
       "11. 'm11'\n",
       "12. 'm12'\n",
       "13. 'm13'\n",
       "14. 'm14'\n",
       "15. 'm15'\n",
       "16. 'm16'\n",
       "17. 'm17'\n",
       "18. 'm18'\n",
       "19. 'm19'\n",
       "20. 'm20'\n",
       "21. 'm21'\n",
       "22. 'm22'\n",
       "\n",
       "\n"
      ],
      "text/plain": [
       " [1] \"m01\" \"m02\" \"m03\" \"m04\" \"m05\" \"m06\" \"m07\" \"m08\" \"m09\" \"m10\" \"m11\" \"m12\"\n",
       "[13] \"m13\" \"m14\" \"m15\" \"m16\" \"m17\" \"m18\" \"m19\" \"m20\" \"m21\" \"m22\""
      ]
     },
     "metadata": {},
     "output_type": "display_data"
    }
   ],
   "source": [
    "##crerate a lsit of miens ordered by active year\n",
    "mines <- unique(lmls$mine)\n",
    "mines <- sort(mines[mines!=0])\n",
    "mines"
   ]
  },
  {
   "cell_type": "code",
   "execution_count": null,
   "metadata": {},
   "outputs": [],
   "source": [
    "##select treatment mines \n",
    "trt_mines = lmls %>% \n",
    "            filter(mine %in% mines) %>% \n",
    "            dplyr::select(mine, active_from) %>%\n",
    "\n",
    "#merge the adjecent leases that are part of the same mine \n",
    "            group_by(mine, active_from) %>% \n",
    "            summarize()  %>% \n",
    "            st_union(by_feature = TRUE)\n",
    "\n",
    "##create a mine active dataframe\n",
    "ma <- trt_mines %>% st_drop_geometry()\n",
    "\n",
    "##and split into list of seperate objects\n",
    "split_tm=split(trt_mines, trt_mines$mine)"
   ]
  },
  {
   "cell_type": "code",
   "execution_count": null,
   "metadata": {},
   "outputs": [],
   "source": [
    "##save the list of treatment mines as a df\n",
    "write.csv(ma,paste(data_path,\"dfs/mine_tyr.csv\", sep=\"/\"), row.names = FALSE)"
   ]
  },
  {
   "cell_type": "code",
   "execution_count": null,
   "metadata": {},
   "outputs": [],
   "source": [
    "###create a lsit of rasters for each mine with buffer\n",
    "##set empty list for rasters\n",
    "t = list()\n",
    "##loop over the elements \n",
    "for (i in 1:length(split_tm)){\n",
    "    ##buffer each mine by 25km and rasterize.\n",
    "    t[[i]] <- rasterize(st_buffer(split_tm[[i]], dist = 25000), ref_m, field = 1, background = 0)\n",
    "    ##convert 0's to NA \n",
    "    t[[i]][t[[i]]<1] <- NA\n",
    "}"
   ]
  },
  {
   "cell_type": "code",
   "execution_count": null,
   "metadata": {},
   "outputs": [],
   "source": [
    "##calcaute a distance layer for each treatment mine \n",
    "d = list()\n",
    "##loop over the elements to rasterize and then get distnace to a cell with a mine\n",
    "for (i in 1:length(split_tm)){\n",
    "    d[[i]] <- gridDistance(rasterize(split_tm[[i]], ref_m, field = 1), origin = 1)\n",
    "    }"
   ]
  },
  {
   "cell_type": "code",
   "execution_count": null,
   "metadata": {},
   "outputs": [],
   "source": [
    "##create new active year variable - either year active or active before 2000 - uncertian are treated as active pre 2000\n",
    "lmls$active2 <- ifelse(lmls$active_from == 'pre-2000' | lmls$active_from == \"Unclear\", 2000, lmls$active_from)\n",
    "##split into year \n",
    "split_ym=split(lmls, lmls$active2)"
   ]
  },
  {
   "cell_type": "code",
   "execution_count": 17,
   "metadata": {},
   "outputs": [
    {
     "data": {
      "text/html": [
       "<style>\n",
       ".list-inline {list-style: none; margin:0; padding: 0}\n",
       ".list-inline>li {display: inline-block}\n",
       ".list-inline>li:not(:last-child)::after {content: \"\\00b7\"; padding: 0 .5ex}\n",
       "</style>\n",
       "<ol class=list-inline><li>2000</li><li>2004</li><li>2006</li><li>2008</li><li>2011</li><li>2012</li><li>2013</li><li>2014</li><li>2015</li><li>2017</li><li>2019</li><li>2020</li></ol>\n"
      ],
      "text/latex": [
       "\\begin{enumerate*}\n",
       "\\item 2000\n",
       "\\item 2004\n",
       "\\item 2006\n",
       "\\item 2008\n",
       "\\item 2011\n",
       "\\item 2012\n",
       "\\item 2013\n",
       "\\item 2014\n",
       "\\item 2015\n",
       "\\item 2017\n",
       "\\item 2019\n",
       "\\item 2020\n",
       "\\end{enumerate*}\n"
      ],
      "text/markdown": [
       "1. 2000\n",
       "2. 2004\n",
       "3. 2006\n",
       "4. 2008\n",
       "5. 2011\n",
       "6. 2012\n",
       "7. 2013\n",
       "8. 2014\n",
       "9. 2015\n",
       "10. 2017\n",
       "11. 2019\n",
       "12. 2020\n",
       "\n",
       "\n"
      ],
      "text/plain": [
       " [1] 2000 2004 2006 2008 2011 2012 2013 2014 2015 2017 2019 2020"
      ]
     },
     "metadata": {},
     "output_type": "display_data"
    }
   ],
   "source": [
    "mine_years <- as.numeric(names(split_ym))\n",
    "mine_years"
   ]
  },
  {
   "cell_type": "code",
   "execution_count": null,
   "metadata": {},
   "outputs": [],
   "source": [
    "years = seq(2000,2019)"
   ]
  },
  {
   "cell_type": "code",
   "execution_count": null,
   "metadata": {},
   "outputs": [],
   "source": [
    "##calculate a distance layer for active mines each year a new becomes active \n",
    "##take the miniumum of the current year or previosu year distance from a lease - unless its the first year\n",
    "\n",
    "dy = list()\n",
    "\n",
    "for (i in 1:length(split_ym)){\n",
    "            if (i == 1) {\n",
    "         # for the 1st year just the distance\n",
    "                dy[[i]] <- gridDistance(rasterize(split_ym[[i]], ref_m, field = 1), origin = 1)\n",
    "            } else {\n",
    "                #for other years the min of the yearly distance and the distance in the previous year - creating a culamtive min distance to mine\n",
    "                dy[[i]] <- min(gridDistance(rasterize(split_ym[[i]], ref_m, field = 1), origin = 1),  dy[[i-1]])\n",
    "        }}"
   ]
  },
  {
   "cell_type": "code",
   "execution_count": null,
   "metadata": {},
   "outputs": [],
   "source": [
    "##create a distance to nearest mine for all years equal to either the distance to nearest mine if a new mine year of the previous year if not\n",
    "dy_all = list()\n",
    "\n",
    "j = 0\n",
    "\n",
    "for (i in 1:length(years)) {\n",
    "    if((i + 1999) %in% mine_years) {\n",
    "        j = j +1\n",
    "        dy_all[[i]] <- dy[[j]]\n",
    "    } else {\n",
    "        dy_all[[i]] <- dy_all[[i-1]]\n",
    "}\n",
    "}"
   ]
  },
  {
   "cell_type": "code",
   "execution_count": null,
   "metadata": {},
   "outputs": [],
   "source": [
    "##convert list of rasters to raster stacks \n",
    "trt <- stack(unlist(t))\n",
    "trt_dist <- stack(unlist(d))\n",
    "nm_stack <- stack(unlist(dy_all))"
   ]
  },
  {
   "cell_type": "code",
   "execution_count": null,
   "metadata": {},
   "outputs": [],
   "source": [
    "##add names to the lists of rasters\n",
    "names(trt) <- rep('treatment',22)\n",
    "names(trt_dist) <- rep('trt_dist',22)\n",
    "names(nm_stack) <- paste(\"near_m\", years, sep= \"_\")"
   ]
  },
  {
   "cell_type": "code",
   "execution_count": null,
   "metadata": {},
   "outputs": [],
   "source": [
    "##read in the lel control dataset\n",
    "lels <- st_read(dsn = paste(data_path, \"mine_leases/LEL\", sep = \"/\"), layer = \"LEL\") \n",
    "\n",
    "##read in the small scale mining leases - these will be excluded as controls\n",
    "smls <- st_read(dsn = paste(data_path, \"mine_leases/SML\", sep = \"/\"), layer = \"SML\") "
   ]
  },
  {
   "cell_type": "code",
   "execution_count": null,
   "metadata": {},
   "outputs": [],
   "source": [
    "##re-project to projected coordinate system\n",
    "lels <-st_transform(lels, crs=crs(lmls))\n",
    "smls <-st_transform(smls, crs=crs(lmls))"
   ]
  },
  {
   "cell_type": "code",
   "execution_count": null,
   "metadata": {},
   "outputs": [],
   "source": [
    "##create a mask of all treated and prevously active mines to act as a mask for controls \n",
    "lml_mask <- trt\n",
    "lml_mask[is.na(lml_mask)] <- 0\n",
    "lml_mask <- sum(lml_mask)\n",
    "lml_mask[lml_mask>0] <- NA"
   ]
  },
  {
   "cell_type": "code",
   "execution_count": null,
   "metadata": {},
   "outputs": [],
   "source": [
    "##add the smls rasterized (buffer by 5 to ensure no controls within mines)\n",
    "sml_mask <- rasterize(st_buffer(smls, dist = 5), ref_m, field = NA, background = 0)"
   ]
  },
  {
   "cell_type": "code",
   "execution_count": null,
   "metadata": {},
   "outputs": [],
   "source": [
    "mine_mask <- lml_mask + sml_mask\n",
    "names(mine_mask) <- 'mine_mask'"
   ]
  },
  {
   "cell_type": "code",
   "execution_count": null,
   "metadata": {},
   "outputs": [],
   "source": [
    "##rasterize the LELs and add the mask to create the controls\n",
    "lel_cons <- rasterize(lels, ref_m, field = 1) + mine_mask\n",
    "names(lel_cons) <- 'lel_controls'"
   ]
  },
  {
   "cell_type": "code",
   "execution_count": null,
   "metadata": {},
   "outputs": [],
   "source": [
    "##create the non-lel controls - everywhere in Zambia that is not in the mask\n",
    "nlel_cons <- mine_mask\n",
    "nlel_cons[nlel_cons==0] <- 1\n",
    "names(nlel_cons) <- 'nlel_controls'"
   ]
  },
  {
   "cell_type": "code",
   "execution_count": null,
   "metadata": {},
   "outputs": [],
   "source": [
    "##export the raster stacks\n",
    "#writeRaster(t_stack, paste(data_path, \"treatments.tif\",  sep = \"/\"), overwrite=TRUE)\n",
    "\n",
    "#writeRaster(lel_cons, paste(data_path, \"lel_controls.tif\",  sep = \"/\"), overwrite=TRUE)\n",
    "#writeRaster(nlel_cons, paste(data_path, \"nlel_controls.tif\",  sep = \"/\"), overwrite=TRUE)\n",
    "#writeRaster(mine_mask, paste(data_path, \"mine_mask.tif\",  sep = \"/\"), overwrite=TRUE)\n",
    "\n",
    "#writeRaster(d_stack, paste(data_path, \"mine_dist.tif\",  sep = \"/\"), overwrite=TRUE)\n",
    "#writeRaster(nm_stack, paste(data_path, \"yr_mine_dist.tif\",  sep = \"/\"), overwrite=TRUE)"
   ]
  },
  {
   "cell_type": "code",
   "execution_count": 31,
   "metadata": {},
   "outputs": [],
   "source": [
    "##create list of cell IDs which had greater than 10% forest cover in 2000\n",
    "\n",
    "tc_df10 <- filter(conf, year == \"2000\") %>% \n",
    "            filter(tc > 10) %>%\n",
    "            dplyr:::select(ID)"
   ]
  },
  {
   "cell_type": "code",
   "execution_count": 32,
   "metadata": {},
   "outputs": [
    {
     "data": {
      "text/html": [
       "784769"
      ],
      "text/latex": [
       "784769"
      ],
      "text/markdown": [
       "784769"
      ],
      "text/plain": [
       "[1] 784769"
      ]
     },
     "metadata": {},
     "output_type": "display_data"
    },
    {
     "data": {
      "text/html": [
       "615989"
      ],
      "text/latex": [
       "615989"
      ],
      "text/markdown": [
       "615989"
      ],
      "text/plain": [
       "[1] 615989"
      ]
     },
     "metadata": {},
     "output_type": "display_data"
    }
   ],
   "source": [
    "length(unique(conf$ID))\n",
    "length(tc_df10$ID)"
   ]
  },
  {
   "cell_type": "markdown",
   "metadata": {
    "tags": []
   },
   "source": [
    "## a dataset for each mine for mine level matching - Controls from LELs"
   ]
  },
  {
   "cell_type": "code",
   "execution_count": 33,
   "metadata": {},
   "outputs": [],
   "source": [
    "##create a dataframe of LEL controls with ID value \n",
    "#replace NAs with 0 so 1 if a possible control 0 if not\n",
    "lel_cons_df <- as.data.frame(stack(ref_m, lel_cons)) %>% \n",
    "                filter(ID %in% tc_df10$ID) %>% \n",
    "                    mutate_all(~replace(., is.na(.), 0))"
   ]
  },
  {
   "cell_type": "code",
   "execution_count": 34,
   "metadata": {},
   "outputs": [],
   "source": [
    "m = list()\n",
    "\n",
    "##loop the mines and create dataframes for each.\n",
    "for (i in 1:length(mines)) {\n",
    "    \n",
    "    df = filter(conf, year == (filter(ma, mine == paste(mines[i])))$active_from)  ## selecet the correct year of confounder values\n",
    "    \n",
    "    m[[i]] <- as.data.frame(stack(ref_m, trt[[i]], trt_dist[[i]])) %>%  # create datframe of treament pixels (1 if treated, 0 if not)\n",
    "                filter(ID %in% tc_df10$ID) %>% \n",
    "                rename(\"treatment\" = names(.)[2], 'trt_dist'= names(.)[3]) %>%  \n",
    "                left_join(lel_cons_df, by = \"ID\") %>%  #join the control dataset\n",
    "                mutate(trt_con = ifelse(lel_controls == 1, 0, ifelse(treatment == 1,1, -1))) %>% ## create single treatment and control variable\n",
    "                dplyr:::select(-treatment,-lel_controls) %>%\n",
    "                filter(trt_con >= 0) %>% \n",
    "                left_join(df, by =\"ID\")    ## join dataset of confounders for matching\n",
    "} "
   ]
  },
  {
   "cell_type": "code",
   "execution_count": null,
   "metadata": {},
   "outputs": [],
   "source": [
    "##save the mine dfs \n",
    "for (i in 1:length(mines)) {\n",
    "    write.csv(m[[i]], paste(data_path,\"/dfs/um_mines/\", mines[i], \".csv\", sep=\"\"), row.names = FALSE)\n",
    "}"
   ]
  },
  {
   "cell_type": "markdown",
   "metadata": {
    "tags": []
   },
   "source": [
    "## a dataset for each mine for mine level matching - Controls from anywhere not mined"
   ]
  },
  {
   "cell_type": "code",
   "execution_count": null,
   "metadata": {},
   "outputs": [],
   "source": [
    "##cretae a dataframe of controls from anywhere in zambia not mined with ID value\n",
    "nlel_cons_df <- as.data.frame(stack(ref_m, nlel_cons)) %>% \n",
    "                filter(ID %in% tc_df10$ID) %>% \n",
    "                mutate_all(~replace(., is.na(.), 0))"
   ]
  },
  {
   "cell_type": "code",
   "execution_count": null,
   "metadata": {},
   "outputs": [],
   "source": [
    "##dataset - Unmatched non-lel controls \n",
    "mn = list()\n",
    "##loop the mines and create dataframes for each\n",
    "for (i in 1:length(mines)) {\n",
    "     df = filter(conf, year == (filter(ma, mine == paste(mines[i])))$active_from)\n",
    "    \n",
    "     mn[[i]] <- as.data.frame(stack(ref_m, trt[[i]], trt_dist[[i]])) %>% \n",
    "                filter(ID %in% tc_df10$ID) %>% \n",
    "                rename(\"treatment\" = names(.)[2], 'trt_dist'= names(.)[3]) %>% \n",
    "                left_join(nlel_cons_df, by = \"ID\") %>%\n",
    "                mutate(trt_con = ifelse(nlel_controls == 1, 0, ifelse(treatment == 1,1, -1))) %>%\n",
    "                dplyr:::select(-treatment,-nlel_controls) %>%\n",
    "                filter(trt_con >= 0) %>% \n",
    "                left_join(df, by =\"ID\")\n",
    "    }"
   ]
  },
  {
   "cell_type": "code",
   "execution_count": null,
   "metadata": {},
   "outputs": [],
   "source": [
    "##save the mine dfs \n",
    "for (i in 1:length(mines)) {\n",
    "    write.csv(mn[[i]], paste(data_path,\"/dfs/um_mines_nlel/\", mines[i], \".csv\", sep=\"\"), row.names = FALSE)\n",
    "}"
   ]
  },
  {
   "cell_type": "code",
   "execution_count": null,
   "metadata": {},
   "outputs": [],
   "source": [
    "##dataset of just mines - treatments only \n",
    "mt = list()\n",
    "\n",
    "##loop the mines and create dataframe for each\n",
    "for (i in 1:length(mines)) {\n",
    "     df = filter(conf, year == (filter(ma, mine == paste(mines[i])))$active_from)\n",
    "     mt[[i]] <- as.data.frame(stack(ref_m, trt[[i]], trt_dist[[i]])) %>% \n",
    "                rename(\"treatment\" = names(.)[2], 'trt_dist'= names(.)[3]) %>%\n",
    "                left_join(df, by =\"ID\")    \n",
    "} "
   ]
  },
  {
   "cell_type": "code",
   "execution_count": null,
   "metadata": {},
   "outputs": [],
   "source": [
    "##save the mine dfs \n",
    "for (i in 1:length(mines)) {\n",
    "    write.csv(mt[[i]], paste(data_path,\"/dfs/only_mines/\", mines[i], \".csv\", sep=\"\"), row.names = FALSE)\n",
    "}"
   ]
  },
  {
   "cell_type": "markdown",
   "metadata": {},
   "source": [
    "## Regular sampling"
   ]
  },
  {
   "cell_type": "code",
   "execution_count": null,
   "metadata": {},
   "outputs": [],
   "source": [
    "## 25% sampling - bottom left of a 2 x 2 square is kept\n",
    "row <- rep(c(NA),(dim(ref_m)[2])) # first row\n",
    "row2 <- rep(c(NA,0),(dim(ref_m)[2]/2)) # second\n",
    "\n",
    "samples <- c(rep(c(row,row2), dim(ref_m)[1]/2),row) ##repaeat for the y dimenson plus and extra row as odd number"
   ]
  },
  {
   "cell_type": "code",
   "execution_count": null,
   "metadata": {},
   "outputs": [],
   "source": [
    "##add the pattern of NAs and 0's to the refrence raster\n",
    "sample_rast25 <- setValues(raster(ref_m),samples)"
   ]
  },
  {
   "cell_type": "code",
   "execution_count": null,
   "metadata": {},
   "outputs": [],
   "source": [
    "##11% sampling - bottom left of a 3 x 3 square is kept\n",
    "row <- rep(c(NA),(dim(ref_m)[2])) # first and second row\n",
    "row2 <- rep(c(NA,0,NA),(dim(ref_m)[2]/3)) # third row\n",
    "\n",
    "samples <- c(rep(c(row,row, row2), dim(ref_m)[1]/3))\n",
    "\n",
    "sample_rast11 <- setValues(raster(ref_m),samples)"
   ]
  },
  {
   "cell_type": "code",
   "execution_count": null,
   "metadata": {},
   "outputs": [],
   "source": [
    "##save the sampling rasters\n",
    "writeRaster(sample_rast25, paste(data_path, \"sample_rast25.tif\",  sep = \"/\"), overwrite=TRUE)\n",
    "writeRaster(sample_rast11, paste(data_path, \"sample_rast11.tif\",  sep = \"/\"), overwrite=TRUE)"
   ]
  },
  {
   "cell_type": "markdown",
   "metadata": {},
   "source": [
    "## Repeat with regular sampling to 25%"
   ]
  },
  {
   "cell_type": "code",
   "execution_count": null,
   "metadata": {},
   "outputs": [],
   "source": [
    "##create dataframe of contorls but add sampling raster to remove 25% of cells\n",
    "\n",
    "lel_cons25 <- lel_cons + sample_rast25\n",
    "names(lel_cons25) <- 'lel_controls'\n",
    "lel_cons25_df <- as.data.frame(stack(ref_m, lel_cons25)) %>% \n",
    "                    filter(ID %in% tc_df10$ID) %>% \n",
    "                    mutate_all(~replace(., is.na(.), 0))"
   ]
  },
  {
   "cell_type": "code",
   "execution_count": null,
   "metadata": {},
   "outputs": [],
   "source": [
    "ms25 = list()\n",
    "\n",
    "##loop the mines and create dataframe for each \n",
    "for (i in 1:length(mines)) {\n",
    "    df = filter(conf, year == (filter(ma, mine == paste(mines[i])))$active_from)\n",
    "    ms25[[i]] <- as.data.frame(stack(ref_m,(trt[[i]] + sample_rast25), trt_dist[[i]])) %>% \n",
    "                filter(ID %in% tc_df10$ID) %>% \n",
    "                mutate_all(~replace(., is.na(.), 0)) %>%  \n",
    "                rename(\"treatment\" = names(.)[2], 'trt_dist'= names(.)[3]) %>% \n",
    "                left_join(lel_cons25_df, by = \"ID\") %>%\n",
    "                mutate(trt_con = ifelse(lel_controls == 1, 0, ifelse(treatment == 1,1, -1))) %>%\n",
    "                dplyr:::select(-treatment,-lel_controls) %>%\n",
    "                filter(trt_con >= 0) %>% left_join(df, by =\"ID\")    \n",
    "} "
   ]
  },
  {
   "cell_type": "code",
   "execution_count": null,
   "metadata": {},
   "outputs": [],
   "source": [
    "##save the mine dfs \n",
    "for (i in 1:length(mines)) {\n",
    "    write.csv(ms25[[i]], paste(data_path,\"/dfs/um_mines_rs_25/\", mines[i], \".csv\", sep=\"\"), row.names = FALSE)\n",
    "}"
   ]
  },
  {
   "cell_type": "markdown",
   "metadata": {},
   "source": [
    "## Repeat with regular sampling to 11%"
   ]
  },
  {
   "cell_type": "code",
   "execution_count": null,
   "metadata": {},
   "outputs": [],
   "source": [
    "##create dataframe of contorls but add sampling raster to remove 11% of cells\n",
    "\n",
    "lel_cons11 <- lel_cons + sample_rast11\n",
    "names(lel_cons11) <- 'lel_controls'\n",
    "lel_cons11_df <- as.data.frame(stack(ref_m, lel_cons11)) %>% \n",
    "                    filter(ID %in% tc_df10$ID) %>% \n",
    "                    mutate_all(~replace(., is.na(.), 0))"
   ]
  },
  {
   "cell_type": "code",
   "execution_count": null,
   "metadata": {},
   "outputs": [],
   "source": [
    "\n",
    "ms11 = list()\n",
    "\n",
    "##loop the mines and create dataframes for each\n",
    "for (i in 1:length(mines)) {\n",
    "    df = filter(conf, year == (filter(ma, mine == paste(mines[i])))$active_from)\n",
    "    ms11[[i]] <- as.data.frame(stack(ref_m,(trt[[i]] + sample_rast11), trt_dist[[i]])) %>% \n",
    "                filter(ID > 0 & ID %in% tc_df10$ID) %>% \n",
    "                mutate_all(~replace(., is.na(.), 0)) %>%  \n",
    "                rename(\"treatment\" = names(.)[2], 'trt_dist'= names(.)[3]) %>% \n",
    "                left_join(lel_cons11_df, by = \"ID\") %>%\n",
    "                mutate(trt_con = ifelse(lel_controls == 1, 0, ifelse(treatment == 1,1, -1))) %>%\n",
    "                dplyr:::select(-treatment,-lel_controls) %>%\n",
    "                filter(trt_con >= 0) %>% \n",
    "                left_join(df, by =\"ID\")    \n",
    "} "
   ]
  },
  {
   "cell_type": "code",
   "execution_count": null,
   "metadata": {},
   "outputs": [],
   "source": [
    "##save the mine dfs \n",
    "for (i in 1:length(mines)) {\n",
    "    write.csv(ms11[[i]], paste(data_path,\"/dfs/um_mines_rs_11/\", mines[i], \".csv\", sep=\"\"), row.names = FALSE)\n",
    "}"
   ]
  },
  {
   "cell_type": "markdown",
   "metadata": {},
   "source": [
    "## Non LEL controls at 25% sampling"
   ]
  },
  {
   "cell_type": "code",
   "execution_count": 221,
   "metadata": {},
   "outputs": [],
   "source": [
    "##repeat for the non-lel dataset\n",
    "nlel_cons25 <- nlel_cons + sample_rast25\n",
    "names(nlel_cons25) <- 'nlel_controls'\n",
    "nlel_cons_df <- as.data.frame(stack(ref_m, nlel_cons25)) %>% \n",
    "                filter(ID %in% tc_df10$ID) %>% \n",
    "                mutate_all(~replace(., is.na(.), 0))"
   ]
  },
  {
   "cell_type": "code",
   "execution_count": 222,
   "metadata": {},
   "outputs": [],
   "source": [
    "\n",
    "mn25 = list()\n",
    "##loop the mines and create dataframe\n",
    "for (i in 1:length(mines)) {\n",
    "    mine_year <- filter(ma, mine == paste(mines[i]))$active_from\n",
    "    df = filter(conf, year == (filter(ma, mine == paste(mines[i])))$active_from)\n",
    "    mn25[[i]] <- as.data.frame(stack(ref_m,(trt[[i]] + sample_rast25), trt_dist[[i]])) %>% \n",
    "                filter(ID %in% tc_df10$ID)  %>%\n",
    "                mutate_all(~replace(., is.na(.), 0)) %>% \n",
    "                rename(\"treatment\" = names(.)[2], 'trt_dist'= names(.)[3]) %>% \n",
    "                left_join(nlel_cons_df, by = \"ID\") %>%\n",
    "                mutate(trt_con = ifelse(nlel_controls == 1, 0, ifelse(treatment == 1,1, -1))) %>%\n",
    "                dplyr:::select(-treatment,-nlel_controls) %>%\n",
    "                filter(trt_con >= 0) %>% \n",
    "                left_join(df, by =\"ID\")\n",
    "    }"
   ]
  },
  {
   "cell_type": "code",
   "execution_count": 223,
   "metadata": {},
   "outputs": [],
   "source": [
    "##save the mine dfs \n",
    "for (i in 1:length(mines)) {\n",
    "    write.csv(mn25[[i]], paste(data_path,\"/dfs/um_mines_nlel_rs_25/\", mines[i], \".csv\", sep=\"\"), row.names = FALSE)\n",
    "}"
   ]
  },
  {
   "cell_type": "markdown",
   "metadata": {},
   "source": [
    "## non LEL controls at 11% sampling"
   ]
  },
  {
   "cell_type": "code",
   "execution_count": 224,
   "metadata": {},
   "outputs": [],
   "source": [
    "##repeat for the non-lel dataset\n",
    "nlel_cons11 <- nlel_cons + sample_rast11\n",
    "names(nlel_cons11) <- 'nlel_controls'\n",
    "nlel_cons_df <- as.data.frame(stack(ref_m, nlel_cons11)) %>% \n",
    "                filter(ID %in% tc_df10$ID) %>% \n",
    "                mutate_all(~replace(., is.na(.), 0))"
   ]
  },
  {
   "cell_type": "code",
   "execution_count": 225,
   "metadata": {},
   "outputs": [],
   "source": [
    "##dataset - Unmatched non-lel controls \n",
    "mn11 = list()\n",
    "##loop the mines and create dataframe\n",
    "for (i in 1:length(mines)) {\n",
    "    mine_year <- filter(ma, mine == paste(mines[i]))$active_from\n",
    "    df = filter(conf, year == (filter(ma, mine == paste(mines[i])))$active_from)\n",
    "    mn11[[i]] <- as.data.frame(stack(ref_m,(trt[[i]] + sample_rast11), trt_dist[[i]])) %>% \n",
    "                filter(ID %in% tc_df10$ID)  %>%\n",
    "                mutate_all(~replace(., is.na(.), 0)) %>% \n",
    "                rename(\"treatment\" = names(.)[2], 'trt_dist'= names(.)[3]) %>% \n",
    "                left_join(nlel_cons_df, by = \"ID\") %>%\n",
    "                mutate(trt_con = ifelse(nlel_controls == 1, 0, ifelse(treatment == 1,1, -1))) %>%\n",
    "                dplyr:::select(-treatment,-nlel_controls) %>%\n",
    "                filter(trt_con >= 0) %>% \n",
    "                left_join(df, by =\"ID\")\n",
    "    }"
   ]
  },
  {
   "cell_type": "code",
   "execution_count": 226,
   "metadata": {},
   "outputs": [],
   "source": [
    "##save the mine dfs \n",
    "for (i in 1:length(mines)) {\n",
    "    write.csv(mn11[[i]], paste(data_path,\"/dfs/um_mines_nlel_rs_11/\", mines[i], \".csv\", sep=\"\"), row.names = FALSE)\n",
    "}"
   ]
  },
  {
   "cell_type": "code",
   "execution_count": 209,
   "metadata": {},
   "outputs": [
    {
     "data": {
      "text/plain": [
       "\n",
       "     0      1 \n",
       "186671   6365 "
      ]
     },
     "metadata": {},
     "output_type": "display_data"
    }
   ],
   "source": [
    "table(m[[1]]$trt_con)"
   ]
  },
  {
   "cell_type": "code",
   "execution_count": 210,
   "metadata": {},
   "outputs": [
    {
     "data": {
      "text/plain": [
       "\n",
       "    0     1 \n",
       "46681  1592 "
      ]
     },
     "metadata": {},
     "output_type": "display_data"
    }
   ],
   "source": [
    "table(ms25[[1]]$trt_con)"
   ]
  },
  {
   "cell_type": "code",
   "execution_count": 211,
   "metadata": {},
   "outputs": [
    {
     "data": {
      "text/plain": [
       "\n",
       "    0     1 \n",
       "20694   715 "
      ]
     },
     "metadata": {},
     "output_type": "display_data"
    }
   ],
   "source": [
    "table(ms11[[1]]$trt_con)"
   ]
  },
  {
   "cell_type": "code",
   "execution_count": 212,
   "metadata": {},
   "outputs": [
    {
     "data": {
      "text/plain": [
       "\n",
       "     0      1 \n",
       "584479   6365 "
      ]
     },
     "metadata": {},
     "output_type": "display_data"
    }
   ],
   "source": [
    "table(mn[[1]]$trt_con)"
   ]
  },
  {
   "cell_type": "code",
   "execution_count": 219,
   "metadata": {},
   "outputs": [
    {
     "data": {
      "text/plain": [
       "\n",
       "     0      1 \n",
       "146120   1592 "
      ]
     },
     "metadata": {},
     "output_type": "display_data"
    }
   ],
   "source": [
    "table(mn25[[1]]$trt_con)"
   ]
  },
  {
   "cell_type": "code",
   "execution_count": 227,
   "metadata": {},
   "outputs": [
    {
     "data": {
      "text/plain": [
       "\n",
       "    0     1 \n",
       "64902   715 "
      ]
     },
     "metadata": {},
     "output_type": "display_data"
    }
   ],
   "source": [
    "table(mn11[[1]]$trt_con)"
   ]
  },
  {
   "cell_type": "code",
   "execution_count": null,
   "metadata": {},
   "outputs": [],
   "source": []
  }
 ],
 "metadata": {
  "kernelspec": {
   "display_name": "R",
   "language": "R",
   "name": "ir"
  },
  "language_info": {
   "codemirror_mode": "r",
   "file_extension": ".r",
   "mimetype": "text/x-r-source",
   "name": "R",
   "pygments_lexer": "r",
   "version": "3.6.3"
  }
 },
 "nbformat": 4,
 "nbformat_minor": 5
}
